{
 "cells": [
  {
   "cell_type": "markdown",
   "id": "d8bac8c2",
   "metadata": {},
   "source": [
    "## Load DataFrame"
   ]
  },
  {
   "cell_type": "code",
   "execution_count": null,
   "id": "cf176b79",
   "metadata": {},
   "outputs": [],
   "source": [
    "import pandas as pd\n",
    "from pathlib import Path\n",
    "\n",
    "# adjust the path/name to the parquet file you want to load\n",
    "pq_path = Path('audittest.pq')\n",
    "\n",
    "if not pq_path.exists():\n",
    "    print(f'Parquet file not found: {pq_path}')\n",
    "else:\n",
    "    try:\n",
    "        df = pd.read_parquet(pq_path)\n",
    "    except Exception as e:\n",
    "        print('Error reading parquet:', e)\n",
    "    else:\n",
    "        print(f'Loaded {len(df)} rows from {pq_path}')\n",
    "        # show a small preview\n",
    "        print(df.head())"
   ]
  },
  {
   "cell_type": "markdown",
   "id": "62ba6d62",
   "metadata": {},
   "source": [
    "## General DataFrame Statistics of Interest"
   ]
  },
  {
   "cell_type": "code",
   "execution_count": null,
   "id": "4775cc5b",
   "metadata": {},
   "outputs": [],
   "source": [
    "# Count of unique \"parent\" values\n",
    "unique_parents_count = df['parent'].nunique()\n",
    "print(f'Unique parent values: {unique_parents_count}')\n",
    "\n",
    "# Count of unique files with suffix \".4gi\"\n",
    "gi_count = df[df['suffix'] == '.4gi']['rel_path'].nunique()\n",
    "print(f'Unique .4gi files: {gi_count}')\n",
    "\n",
    "# Newest and oldest mtime values\n",
    "newest_mtime = df['mtime'].max()\n",
    "oldest_mtime = df['mtime'].min()\n",
    "print(f'Newest mtime: {newest_mtime}')\n",
    "print(f'Oldest mtime: {oldest_mtime}')\n",
    "\n",
    "# 5 largest \"size_bytes\" values\n",
    "largest_sizes = df.nlargest(5, 'size_bytes')[['module', 'rel_path', 'size_bytes']]\n",
    "print('5 largest files by size_bytes:')\n",
    "print(largest_sizes)\n",
    "\n",
    "# 5 largest \"lines_of_code\" values\n",
    "largest_loc = df.nlargest(5, 'num_lines')[['module', 'rel_path', 'num_lines']]\n",
    "print('5 largest counts of num_lines:')\n",
    "print(largest_loc)"
   ]
  },
  {
   "cell_type": "markdown",
   "id": "8f664a14",
   "metadata": {},
   "source": [
    "## Deeper Dive in Largest _lines-of-code_ Values"
   ]
  },
  {
   "cell_type": "code",
   "execution_count": null,
   "id": "d1620dba",
   "metadata": {},
   "outputs": [],
   "source": [
    "# Deeper dive in Largest \"n_lines\" values\n",
    "lines_of_interest = df[df['suffix'] == \".4gl\"]\n",
    "# \"official\" app-directories, not _bkup, not sccs, etc.\n",
    "lines_of_interest = lines_of_interest[lines_of_interest['parent'].str.endswith('.4gc')]\n",
    "# null-cases\n",
    "lines_of_interest = lines_of_interest[lines_of_interest['num_lines'] > 0]\n",
    "print(f\"Count is:\", len(lines_of_interest))\n",
    "\n",
    "import matplotlib.pyplot as plt\n",
    "from matplotlib.ticker import AutoMinorLocator\n",
    "fig, (f1, f2) = plt.subplots(1, 2)\n",
    "f1.hist(lines_of_interest['num_lines'], bins=30)\n",
    "f1.yaxis.set_minor_locator(AutoMinorLocator())\n",
    "f1.xaxis.set_label_text(\"num_lines\")\n",
    "f1.set_title(\"Frequency vs. Lines\")\n",
    "f2.hist(lines_of_interest['num_lines'], bins=30, range=(0,2000))\n",
    "f2.yaxis.set_minor_locator(AutoMinorLocator())\n",
    "f2.xaxis.set_minor_locator(AutoMinorLocator())\n",
    "f2.set_title(\"Freq. vs. Lines (Detail)\")\n",
    "f2.xaxis.set_label_text(\"num_lines\")\n",
    "plt.ylabel('Frequency')\n",
    "\n",
    "plt.show()\n",
    "\n",
    "display(lines_of_interest.sort_values('num_lines', ascending=False)[['module', 'rel_path', 'num_lines']])"
   ]
  },
  {
   "cell_type": "markdown",
   "id": "81d0fe5d",
   "metadata": {},
   "source": [
    "## **mtime** For Any `.ext`, `.org`, or `.4gl` Files Are Newer Than the **mtime** of the Respective `.4gi` File"
   ]
  },
  {
   "cell_type": "code",
   "execution_count": null,
   "id": "2bd12f34",
   "metadata": {},
   "outputs": [],
   "source": [
    "from IPython.display import display\n",
    "from datetime import datetime, timedelta\n",
    "import isodate\n",
    "compare_debounce = timedelta(seconds=10)\n",
    "# Filter for .ext, .org, .4gl, and .4gi files\n",
    "ext_org_4gl = df[df['suffix'].isin(['.ext', '.org', '.4gl'])]\n",
    "gi_files = df[df['suffix'] == '.4gi']\n",
    "\n",
    "# Prepare a mapping from parent to .4gi mtime\n",
    "gi_mtimes = gi_files.set_index('parent')['mtime'].to_dict()\n",
    "\n",
    "# Compare mtime for each file to its parent's .4gi mtime\n",
    "def is_newer_than_gi(row):\n",
    "    gi_mtime = gi_mtimes.get(row['parent'])\n",
    "    t_gi_mtime = None\n",
    "    t_row_mtime = None\n",
    "    if gi_mtime is not None:\n",
    "        t_gi_mtime = datetime.fromisoformat(str(gi_mtime))\n",
    "        t_row_mtime = datetime.fromisoformat(str(row['mtime']))\n",
    "    return gi_mtime is not None and t_row_mtime > t_gi_mtime + compare_debounce\n",
    "\n",
    "def difference(row, in_iso=False):\n",
    "    ret = None\n",
    "    gi_mtime = gi_mtimes.get(row['parent'])\n",
    "    t_gi_mtime = None\n",
    "    t_row_mtime = None\n",
    "    if gi_mtime is not None:\n",
    "        t_gi_mtime = datetime.fromisoformat(str(gi_mtime))\n",
    "        t_row_mtime = datetime.fromisoformat(str(row['mtime']))\n",
    "        d = t_row_mtime - t_gi_mtime\n",
    "        if in_iso:\n",
    "            ret = isodate.duration_isoformat(d)\n",
    "        else:\n",
    "            ret = d.total_seconds()\n",
    "    return ret\n",
    "\n",
    "with_gi_mtimes = ext_org_4gl[ext_org_4gl.apply(is_newer_than_gi, axis='columns')].copy()\n",
    "with_gi_mtimes['4gi_mtime'] = with_gi_mtimes['parent'].map(gi_mtimes)\n",
    "result = with_gi_mtimes.copy()\n",
    "result['secs_diff'] = with_gi_mtimes.apply(difference, axis='columns')\n",
    "result['iso_diff'] = with_gi_mtimes.apply(difference, axis='columns', args=(True,))\n",
    "display(result.sort_values('secs_diff', ascending=False)[[\"module\", \"rel_path\", \"mtime\", \"4gi_mtime\", \"secs_diff\", \"iso_diff\"]])\n",
    "\n",
    "plt.hist(result['secs_diff'], bins=40, range=(0, 8001))\n",
    "plt.xticks(range(0, 8001, 1000))\n",
    "plt.xticks(range(0, 8001, 200), minor=True)\n",
    "plt.xlabel('secs_diff')\n",
    "plt.ylabel('Frequency')\n",
    "\n",
    "plt.show()\n"
   ]
  },
  {
   "cell_type": "markdown",
   "id": "c1fc4274",
   "metadata": {},
   "source": [
    "## All Apps That Have Changed Source-Files, Not Re-Built"
   ]
  },
  {
   "cell_type": "code",
   "execution_count": null,
   "id": "7b0ad82c",
   "metadata": {},
   "outputs": [],
   "source": [
    "print(result[\"parent\"].unique())\n",
    "print(f\"Count is:\", len(result[\"parent\"].unique()))"
   ]
  }
 ],
 "metadata": {
  "kernelspec": {
   "display_name": "Python 3 (ipykernel)",
   "language": "python",
   "name": "python3"
  }
 },
 "nbformat": 4,
 "nbformat_minor": 5
}
