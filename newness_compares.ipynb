{
 "cells": [
  {
   "cell_type": "markdown",
   "id": "d8bac8c2",
   "metadata": {},
   "source": [
    "## Load DataFrame"
   ]
  },
  {
   "cell_type": "code",
   "execution_count": null,
   "id": "cf176b79",
   "metadata": {},
   "outputs": [],
   "source": [
    "import pandas as pd\n",
    "from pathlib import Path\n",
    "\n",
    "# adjust the path/name to the parquet file you want to load\n",
    "pq_path = Path('audittest.pq')\n",
    "\n",
    "if not pq_path.exists():\n",
    "    print(f'Parquet file not found: {pq_path}')\n",
    "else:\n",
    "    try:\n",
    "        df = pd.read_parquet(pq_path)\n",
    "    except Exception as e:\n",
    "        print('Error reading parquet:', e)\n",
    "    else:\n",
    "        print(f'Loaded {len(df)} rows from {pq_path}')\n",
    "        # show a small preview\n",
    "        print(df.head())"
   ]
  },
  {
   "cell_type": "markdown",
   "id": "62ba6d62",
   "metadata": {},
   "source": [
    "## General DataFrame Statistics of Interest"
   ]
  },
  {
   "cell_type": "code",
   "execution_count": null,
   "id": "4775cc5b",
   "metadata": {},
   "outputs": [],
   "source": [
    "# Count of unique \"parent\" values\n",
    "unique_parents_count = df['parent'].nunique()\n",
    "print(f'Unique parent values: {unique_parents_count}')\n",
    "\n",
    "# Count of unique files with suffix \".4gi\"\n",
    "gi_count = df[df['suffix'] == '.4gi']['rel_path'].nunique()\n",
    "print(f'Unique .4gi files: {gi_count}')\n",
    "\n",
    "# Newest and oldest mtime values\n",
    "newest_mtime = df['mtime'].max()\n",
    "oldest_mtime = df['mtime'].min()\n",
    "print(f'Newest mtime: {newest_mtime}')\n",
    "print(f'Oldest mtime: {oldest_mtime}')\n",
    "\n",
    "# 5 largest \"size_bytes\" values\n",
    "largest_sizes = df.nlargest(5, 'size_bytes')[['rel_path', 'size_bytes']]\n",
    "print('5 largest files by size_bytes:')\n",
    "print(largest_sizes)"
   ]
  },
  {
   "cell_type": "markdown",
   "id": "81d0fe5d",
   "metadata": {},
   "source": [
    "## Show where the mtime for any `.ext`, `.org`, and `.4gl` files are greater than the **mtime** of the `.4gi` file for any given parent."
   ]
  },
  {
   "cell_type": "code",
   "execution_count": null,
   "id": "5ed857df",
   "metadata": {},
   "outputs": [],
   "source": [
    "# Filter for .ext, .org, .4gl, and .4gi files\n",
    "ext_org_4gl = df[df['suffix'].isin(['.ext', '.org', '.4gl'])]\n",
    "gi_files = df[df['suffix'] == '.4gi']\n",
    "\n",
    "# Prepare a mapping from parent to .4gi mtime\n",
    "gi_mtimes = gi_files.set_index('parent')['mtime'].to_dict()\n",
    "\n",
    "# Compare mtime for each file to its parent's .4gi mtime\n",
    "def is_newer_than_gi(row):\n",
    "    gi_mtime = gi_mtimes.get(row['parent'])\n",
    "    return gi_mtime is not None and row['mtime'] > gi_mtime\n",
    "\n",
    "result = ext_org_4gl[ext_org_4gl.apply(is_newer_than_gi, axis=1)].copy()\n",
    "result['4gi_mtime'] = result['parent'].map(gi_mtimes)\n",
    "print(result[[\"rel_path\", \"mtime\", \"4gi_mtime\"]])"
   ]
  }
 ],
 "metadata": {
  "kernelspec": {
   "display_name": "informix-4gl-app-audit",
   "language": "python",
   "name": "python3"
  },
  "language_info": {
   "codemirror_mode": {
    "name": "ipython",
    "version": 3
   },
   "file_extension": ".py",
   "mimetype": "text/x-python",
   "name": "python",
   "nbconvert_exporter": "python",
   "pygments_lexer": "ipython3",
   "version": "3.13.5"
  }
 },
 "nbformat": 4,
 "nbformat_minor": 5
}
